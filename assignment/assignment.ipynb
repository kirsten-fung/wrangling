{
  "cells": [
    {
      "cell_type": "markdown",
      "id": "13ad028b-72b7-43ed-aa78-96fd4e518040",
      "metadata": {
        "id": "13ad028b-72b7-43ed-aa78-96fd4e518040"
      },
      "source": [
        "# Assignment: Data Wrangling"
      ]
    },
    {
      "cell_type": "markdown",
      "id": "5735a4d4-8be8-433a-a351-70eb8002e632",
      "metadata": {
        "id": "5735a4d4-8be8-433a-a351-70eb8002e632"
      },
      "source": [
        "**Q1.** Open the \"tidy_data.pdf\" document in the repo, which is a paper called Tidy Data by Hadley Wickham.\n",
        "\n",
        "  1. Read the abstract. What is this paper about?\n",
        "\n",
        "     * This paper is about the importance of data tidying for data cleaning. The specific and standard structure of tidy data and its tools makes it easier to eventually perform data analysis.\n",
        "\n",
        "  2. Read the introduction. What is the \"tidy data standard\" intended to accomplish?\n",
        "\n",
        "     * From the text, the \"tidy data standard\" was designed to facilitate initial exploration and analysis of the data, and to simplify the development of data analysis tools that work well together. Tidy datasets are meant to make data cleaning and analysis easier by structuring them in a uniform and universally understandable way.\n",
        "\n",
        "  3. Read the intro to section 2. What does this sentence mean: \"Like families, tidy datasets are all alike but every messy dataset is messy in its own way.\" What does this sentence mean: \"For a given dataset, it’s usually easy to figure out what are observations and what are variables, but it is surprisingly difficult to precisely define variables and observations in general.\"\n",
        "\n",
        "     * The first sentence is comparing datasets to families, saying that tidy datasets have the same organized structure no matter which one you look at. It is easy to interpret them every single time. On the other hand, messy datasets, just like unhappy families, all have different reasons for their disorder. They are all unique in their problems and it is difficult to figure out what's wrong.\n",
        "     * The second sentence is saying that in theory, it is straighfoward and easy to identify observations and variables due to their definition. However, in practice, it is harder to be able to do this as it is up to the person to make that decision.\n",
        "\n",
        "  4. Read Section 2.2. How does Wickham define values, variables, and observations?\n",
        "\n",
        "     * Values: is what makes up a dataset, usually either numbers (if quantitative) or strings (if qualitative)\n",
        "     * Variables: contains all values that measure the same underlying attribute across units (like height, temp, duration)\n",
        "     * Observations: contains all values measured on the same unit across attributes (like person, day, race)\n",
        "\n",
        "  5. How is \"Tidy Data\" defined in section 2.3?\n",
        "\n",
        "     * Tidy data is a standard way of mapping the meaning of a dataset to its structure where each variable forms a column, each observation forms a row, and each type of observational unit forms a table.\n",
        "\n",
        "  6. Read the intro to Section 3 and Section 3.1. What are the 5 most common problems with messy datasets? Why are the data in Table 4 messy? What is \"melting\" a dataset?\n",
        "     \n",
        "     * The 5 most common problems with dmessy datasets are (1) column headers are values, not variable names, (2) multiple variables are stored in one column, (3) variables are stored in both rows and columns, (4) multiple types of observational units are stored in the same table, and (5) a single observational unit is stored in multiple tables.\n",
        "     * Table 4 is messy because the column headers are values for a variable that should be \"Income\". There should be 2 column variables: income and religion.\n",
        "     * \"Melting\" a dataset is turning columns into rows\n",
        "\n",
        "  7. Why, specifically, is table 11 messy but table 12 tidy and \"molten\"?\n",
        "\n",
        "     * Table 11 has values (days) as column headers and there are multiple variables stored in one column (tmax, tmin) instead of values. Table 12 is \"molten\" because it converted those separate day columns into one data column with values in it. However, it still has tmax and tmin stored in one column. The tidy data splits up the two and puts numeric values under each.\n",
        "\n",
        "\n",
        "  8. Read Section 6. What is the \"chicken-and-egg\" problem with focusing on tidy data? What does Wickham hope happens in the future with further work on the subject of data wrangling?\n",
        "\n",
        "     * The \"chicken-and-egg\" problem with focusing on tidy data is that if these tools can only be used for tidy data, then it is stuck in a loop where it is dependent on itself for the continuous development of tools designed for it. Wickham hopes that tidy data is just a starting point for even better ways to store data and tools for data analysis in the future."
      ]
    },
    {
      "cell_type": "markdown",
      "id": "da879ea7-8aac-48a3-b6c2-daea56d2e072",
      "metadata": {
        "id": "da879ea7-8aac-48a3-b6c2-daea56d2e072"
      },
      "source": [
        "**Q2.** This question provides some practice cleaning variables which have common problems.\n",
        "1. Numeric variable: For `./data/airbnb_hw.csv`, clean the `Price` variable as well as you can, and explain the choices you make. How many missing values do you end up with? (Hint: What happens to the formatting when a price goes over 999 dollars, say from 675 to 1,112?)\n",
        "2. Categorical variable: For the `./data/sharks.csv` data covered in the lecture, clean the \"Type\" variable as well as you can, and explain the choices you make.\n",
        "3. Dummy variable: For the pretrial data covered in the lecture, clean the `WhetherDefendantWasReleasedPretrial` variable as well as you can, and, in particular, replace missing values with `np.nan`.\n",
        "4. Missing values, not at random: For the pretrial data covered in the lecture, clean the `ImposedSentenceAllChargeInContactEvent` variable as well as you can, and explain the choices you make. (Hint: Look at the `SentenceTypeAllChargesAtConvictionInContactEvent` variable.)"
      ]
    },
    {
      "cell_type": "code",
      "source": [
        "! git clone https://github.com/DS3001/wrangling"
      ],
      "metadata": {
        "id": "wEqK03xF90r9",
        "outputId": "0c6f0a71-2af2-4bba-bee8-1e16fbd2dfb4",
        "colab": {
          "base_uri": "https://localhost:8080/"
        }
      },
      "id": "wEqK03xF90r9",
      "execution_count": 4,
      "outputs": [
        {
          "output_type": "stream",
          "name": "stdout",
          "text": [
            "Cloning into 'wrangling'...\n",
            "remote: Enumerating objects: 63, done.\u001b[K\n",
            "remote: Counting objects: 100% (42/42), done.\u001b[K\n",
            "remote: Compressing objects: 100% (34/34), done.\u001b[K\n",
            "remote: Total 63 (delta 22), reused 25 (delta 8), pack-reused 21\u001b[K\n",
            "Receiving objects: 100% (63/63), 6.75 MiB | 22.08 MiB/s, done.\n",
            "Resolving deltas: 100% (24/24), done.\n"
          ]
        }
      ]
    },
    {
      "cell_type": "code",
      "source": [
        "import numpy as np\n",
        "import pandas as pd\n",
        "\n",
        "df = pd.read_csv('./wrangling/assignment/data/airbnb_hw.csv',low_memory=False)\n",
        "print(df)"
      ],
      "metadata": {
        "id": "cpq3S5tvY-hL",
        "outputId": "ec0ad7b2-cc3c-4c43-a69c-90e74cce0116",
        "colab": {
          "base_uri": "https://localhost:8080/"
        }
      },
      "id": "cpq3S5tvY-hL",
      "execution_count": 6,
      "outputs": [
        {
          "output_type": "stream",
          "name": "stdout",
          "text": [
            "        Host Id Host Since                                Name Neighbourhood   \\\n",
            "0       5162530        NaN     1 Bedroom in Prime Williamsburg       Brooklyn   \n",
            "1      33134899        NaN     Sunny, Private room in Bushwick       Brooklyn   \n",
            "2      39608626        NaN                Sunny Room in Harlem      Manhattan   \n",
            "3           500  6/26/2008  Gorgeous 1 BR with Private Balcony      Manhattan   \n",
            "4           500  6/26/2008            Trendy Times Square Loft      Manhattan   \n",
            "...         ...        ...                                 ...            ...   \n",
            "30473  43022976  8/31/2015   10 Mins to Time Square/two floors         Queens   \n",
            "30474  42993382  8/31/2015       1BR ocean view & F,Q train st       Brooklyn   \n",
            "30475  43033067  8/31/2015                Amazing Private Room       Brooklyn   \n",
            "30476  43000991  8/31/2015   Charming private female room: UWS      Manhattan   \n",
            "30477  42999189  8/31/2015    Huge Beautiful Bedroom - Astoria         Queens   \n",
            "\n",
            "      Property Type  Review Scores Rating (bin)        Room Type  Zipcode  \\\n",
            "0         Apartment                         NaN  Entire home/apt  11249.0   \n",
            "1         Apartment                         NaN     Private room  11206.0   \n",
            "2         Apartment                         NaN     Private room  10032.0   \n",
            "3         Apartment                         NaN  Entire home/apt  10024.0   \n",
            "4         Apartment                        95.0     Private room  10036.0   \n",
            "...             ...                         ...              ...      ...   \n",
            "30473     Apartment                         NaN  Entire home/apt  11101.0   \n",
            "30474     Apartment                         NaN     Private room  11224.0   \n",
            "30475         Other                         NaN     Private room  11206.0   \n",
            "30476     Apartment                         NaN     Private room  10025.0   \n",
            "30477         House                         NaN     Private room  11105.0   \n",
            "\n",
            "       Beds  Number of Records  Number Of Reviews Price  Review Scores Rating  \n",
            "0       1.0                  1                  0   145                   NaN  \n",
            "1       1.0                  1                  1    37                   NaN  \n",
            "2       1.0                  1                  1    28                   NaN  \n",
            "3       3.0                  1                  0   199                   NaN  \n",
            "4       3.0                  1                 39   549                  96.0  \n",
            "...     ...                ...                ...   ...                   ...  \n",
            "30473   5.0                  1                  0   300                   NaN  \n",
            "30474   2.0                  1                  0   125                   NaN  \n",
            "30475   1.0                  1                  0    80                   NaN  \n",
            "30476   1.0                  1                  0    35                   NaN  \n",
            "30477   1.0                  1                  0    80                   NaN  \n",
            "\n",
            "[30478 rows x 13 columns]\n"
          ]
        }
      ]
    },
    {
      "cell_type": "markdown",
      "id": "649494cd-cfd6-4f80-992a-9994fc19e1d5",
      "metadata": {
        "id": "649494cd-cfd6-4f80-992a-9994fc19e1d5"
      },
      "source": [
        "**Q3.** Many important datasets contain a race variable, typically limited to a handful of values often including Black, White, Asian, Latino, and Indigenous. This question looks at data gathering efforts on this variable by the U.S. Federal government.\n",
        "\n",
        "1. How did the most recent US Census gather data on race?\n",
        "2. Why do we gather these data? What role do these kinds of data play in politics and society? Why does data quality matter?\n",
        "3. Please provide a constructive criticism of how the Census was conducted: What was done well? What do you think was missing? How should future large scale surveys be adjusted to best reflect the diversity of the population? Could some of the Census' good practices be adopted more widely to gather richer and more useful data?\n",
        "4. How did the Census gather data on sex and gender? Please provide a similar constructive criticism of their practices.\n",
        "5. When it comes to cleaning data, what concerns do you have about protected characteristics like sex, gender, sexual identity, or race? What challenges can you imagine arising when there are missing values? What good or bad practices might people adopt, and why?\n",
        "6. Suppose someone invented an algorithm to impute values for protected characteristics like race, gender, sex, or sexuality. What kinds of concerns would you have?"
      ]
    }
  ],
  "metadata": {
    "colab": {
      "provenance": []
    },
    "kernelspec": {
      "display_name": "Python 3 (ipykernel)",
      "language": "python",
      "name": "python3"
    },
    "language_info": {
      "codemirror_mode": {
        "name": "ipython",
        "version": 3
      },
      "file_extension": ".py",
      "mimetype": "text/x-python",
      "name": "python",
      "nbconvert_exporter": "python",
      "pygments_lexer": "ipython3",
      "version": "3.10.4"
    }
  },
  "nbformat": 4,
  "nbformat_minor": 5
}